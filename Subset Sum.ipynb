{
 "cells": [
  {
   "cell_type": "markdown",
   "metadata": {},
   "source": [
    "## Subset Sum"
   ]
  },
  {
   "cell_type": "markdown",
   "metadata": {},
   "source": [
    "## Non Negative integers"
   ]
  },
  {
   "cell_type": "code",
   "execution_count": 192,
   "metadata": {},
   "outputs": [],
   "source": [
    "# SubsetSum(S,x) returns True if there is a subset of S summing to x, and False otherwise. \n",
    "\n",
    "def SubsetSum(S,x):\n",
    "\n",
    "    # converting to list for indexing \n",
    "    integers = list(S)\n",
    "    #print(values)\n",
    "    l  = len(integers)\n",
    "    \n",
    "    ## initialize the dynamic programming matrix\n",
    "    matrix = [[\"\" for m in range(x+1)] for y in range(l+1)]\n",
    "    \n",
    "    ## the first value of the matrix is always True \n",
    "    matrix[0][0] = True\n",
    "    \n",
    "    ## values in the first row of the matrix are false from the seond element\n",
    "    for y in range(1,x+1):\n",
    "        matrix[0][y] = False\n",
    "    \n",
    "    ## values in the first column are true including the first element\n",
    "    for m in range(1,l+1):\n",
    "        matrix[m][0] = True\n",
    "    \n",
    "    \n",
    "    for m in range(1,l+1):\n",
    "        for y in range(1,x+1):\n",
    "            ## If subset of first m-1 elements A[0...n-1] (S') gives the sum ( here 'y') , if n also belongs to S' then S = S' Union {n} \n",
    "            ## 𝑐(𝑚,𝑦)=𝑇𝑟𝑢𝑒 if 𝑐(𝑚−1,𝑦−𝑎_𝑚 )=𝑇𝑟𝑢𝑒 or  𝑐(𝑚−1,𝑦)=𝑇𝑟𝑢𝑒 \n",
    "            if integers[m-1] <= y:\n",
    "                matrix[m][y]= matrix[m-1][y-integers[m-1]] or matrix[m-1][y]\n",
    "            \n",
    "            ## or the value in the above row gets to the new row\n",
    "            else:\n",
    "                matrix[m][y] = matrix[m-1][y]\n",
    "    \n",
    "    ## returns the final boolean value of bottom most value\n",
    "    return matrix[l][x]"
   ]
  },
  {
   "cell_type": "markdown",
   "metadata": {},
   "source": [
    "## Handling Negative Integers "
   ]
  },
  {
   "cell_type": "code",
   "execution_count": 193,
   "metadata": {},
   "outputs": [],
   "source": [
    "# SubsetSum(S,x) returns True if there is a subset of S summing to x, and False otherwise. \n",
    "\n",
    "def SubsetSum(S,x):\n",
    "\n",
    "    # converting to list for indexing \n",
    "    integers = list(S)\n",
    "    #print(integers)\n",
    "    #n  = len(integers)\n",
    "    \n",
    "    positives = [i for i in integers if i>0]\n",
    "    \n",
    "    #print(positives)\n",
    "    \n",
    "    negatives = [j for j in integers if j<0]\n",
    "    \n",
    "    new_list = positives + negatives\n",
    "    \n",
    "    #print(new_list)\n",
    "    \n",
    "    n = len(new_list)\n",
    "    \n",
    "    #print(negatives)\n",
    "    \n",
    "    maximum = sum(positives)\n",
    "    minimum = sum(negatives)\n",
    "    \n",
    "    ## initializing a memory dictionary to hold boolean values of subsetsum for reducing each set of elements in new_list\n",
    "    memory_dict = {}\n",
    "    \n",
    "    def dummy(i, total):\n",
    "        \n",
    "        ## if the required target is less than sum of negatives or greater than sum of positives return False\n",
    "        if total < minimum or total > maximum:\n",
    "            return False\n",
    "        \n",
    "        ## if the length of list of non negative numbers is 1, the target should be equal to the number\n",
    "        if i == 0:\n",
    "            return new_list[0] == total\n",
    "\n",
    "        \n",
    "        ## defining items for the dictionary\n",
    "        item = (i, total)\n",
    "        \n",
    "        ## returning the stored result\n",
    "        if item in memory_dict:\n",
    "            return memory_dict[item]\n",
    "        \n",
    "        ## checking if the target sum is present as element\n",
    "        ## checking with recursion by reducing the length of list and reducing the required target sum\n",
    "        bool_result = new_list[i] == total or dummy(i-1, total) or dummy(i-1, total - new_list[i])\n",
    "        memory_dict[item] = bool_result\n",
    "        \n",
    "        return bool_result\n",
    "\n",
    "    return dummy(n-1, x)"
   ]
  },
  {
   "cell_type": "code",
   "execution_count": 194,
   "metadata": {},
   "outputs": [],
   "source": [
    "#### Test for Question 1\n",
    "\n",
    "S= {1,4,5,6}\n",
    "if not SubsetSum(S,7):\n",
    "    print(\"Error1\")\n",
    "if SubsetSum(S,2):\n",
    "    print(\"Error2\")"
   ]
  },
  {
   "cell_type": "markdown",
   "metadata": {},
   "source": [
    "### Partition"
   ]
  },
  {
   "cell_type": "code",
   "execution_count": 195,
   "metadata": {},
   "outputs": [],
   "source": [
    "# Partition returns True if there are two subsets of S that sum to the same numbe and False otherwise. \n",
    "\n",
    "def Partition(S):\n",
    "\n",
    "    ## finding the sum of all elements in the array\n",
    "    value = sum(S)\n",
    "    \n",
    "    ## calculating the half of sum to find out if there a subset which sums to sum/2\n",
    "    x = value //2\n",
    "    \n",
    "    ## checks if the sum of numbers is even using a logical and operator  and finding if subsetsum with S and sum/2 exists\n",
    "    ## logical and between numbers check bitwise binary and operation\n",
    "    return ((value & 1) == 0) and SubsetSum(S,x)"
   ]
  },
  {
   "cell_type": "code",
   "execution_count": 196,
   "metadata": {},
   "outputs": [],
   "source": [
    "#### Test for Question 2\n",
    "\n",
    "if not Partition({1,4,5}):\n",
    "    print(\"Error1\")"
   ]
  },
  {
   "cell_type": "markdown",
   "metadata": {},
   "source": [
    "### Question 3"
   ]
  },
  {
   "cell_type": "markdown",
   "metadata": {},
   "source": [
    "### Solution steps (complete this):\n",
    "\n",
    "1) Define the subproblems: Given a 2*x board, what is the the number of ways to tile that board using 2*1 ? Let's call it c(x)\n",
    "\n",
    "2) The answer would be c(n)\n",
    "\n",
    "3) The base cases are: x == 1, c(1) = 1  and  x == 2, c(2) = 2\n",
    "\n",
    "4) Given c(x), if we put one tile vertically problem is reduced to c(x-1), else if we put 1 tile horizontally the second one should also be placed in horizontal way the problem reduces to c(x-2). From the above two possible ways we can say that\n",
    "     c(x) = c(x-1) + c(x-2)"
   ]
  },
  {
   "cell_type": "code",
   "execution_count": 197,
   "metadata": {},
   "outputs": [],
   "source": [
    "# TwoByNTiling(n) returns the number of ways to tile a 2*n board using 2*1 dominos. \n",
    "\n",
    "def TwoByNTiling(n):\n",
    "    \n",
    "    ## base case for n = 1\n",
    "    if n == 1:\n",
    "        return 1\n",
    "    \n",
    "    ## base case for n = 2 as there are 2 ways of putting the tile vertically and horizontally\n",
    "    elif n == 2:\n",
    "        return 2\n",
    "    \n",
    "    ## using recursion as explained above in the description ( identical to fibonacci series)  \n",
    "    else:\n",
    "        return TwoByNTiling(n-1) + TwoByNTiling(n-2)"
   ]
  },
  {
   "cell_type": "code",
   "execution_count": 198,
   "metadata": {},
   "outputs": [],
   "source": [
    "#### Test for Question 3\n",
    "\n",
    "for n in range(1,4):\n",
    "    if TwoByNTiling(n) != n:\n",
    "        print(\"Error: \", n)\n",
    "    \n"
   ]
  },
  {
   "cell_type": "markdown",
   "metadata": {},
   "source": [
    "## Longest Sub Sequence"
   ]
  },
  {
   "cell_type": "markdown",
   "metadata": {},
   "source": [
    "### Solution steps (complete this):\n",
    "\n",
    "1) Define the subproblems : Let c(i,j) be the length of the longest common subsequence of strings the s1[0:i] and s2[0:j]\n",
    "\n",
    "2) Given c(i,j) for all i,j, the answer is: c(len(s1),len(s2)) \n",
    "\n",
    "3) The base cases are: if length of any string is zero, c(i,j) = 0 i.e. c(i,0) = 0 for all i and c(0,j) = 0 and for all j\n",
    "\n",
    "4) Given c(x,y) for all subproblems, what is c(i,j)?\n",
    "\n",
    "    if s1[i]==s2[j] then c(i,j) = c(i-1,j-1) + 1 \n",
    "    else c(i,j) = max(c(i-1,j),c(i,j-1))\n"
   ]
  },
  {
   "cell_type": "code",
   "execution_count": 199,
   "metadata": {},
   "outputs": [],
   "source": [
    "# LCS(s1, s2) returns the length of the longest common subsequence of strings s1 and s2. \n",
    "\n",
    "def LCS(s1,s2):\n",
    "\n",
    "    ### finding the length of the total strings\n",
    "    s1_lower = s1.lower()\n",
    "    s2_lower = s2.lower()\n",
    "    l1 = len(s1)\n",
    "    l2 = len(s2)\n",
    "    \n",
    "    ## initializing the matrix\n",
    "    matrix = [[0 for i in range(l2+1)] for j in range(l1+1)]\n",
    "    \n",
    "    ## if the first list is null, the value of the longest common sub sequence is 0\n",
    "    for i in range(l1+1):\n",
    "        matrix[i][0] = 0\n",
    "    \n",
    "    ## if the second list is null, the value of the longest common sub sequence is 0\n",
    "    for j in range(l2+1):\n",
    "        matrix[0][j] = 0\n",
    "    \n",
    "    \n",
    "    for i in range(1,l1+1):\n",
    "        for j in range(1,l2+1):\n",
    "            ## for each value in the matrix if the nth element is same in both strings, increasing the diagnol by 1\n",
    "            if s1_lower[i-1] == s2_lower[j-1]:\n",
    "                matrix[i][j] = 1 + matrix[i-1][j-1]\n",
    "            ## for other values, update the element with the max of top and left elements (this will handle non consective sequence as well)\n",
    "            else:\n",
    "                matrix[i][j] = max(matrix[i-1][j], matrix[i][j-1])\n",
    "   \n",
    "    #result = 0\n",
    "    \n",
    "    ## as matrix is a list of lists, we have to compare maximums of all lists\n",
    "    #for i in matrix:\n",
    "        #result = max(result,max(i))\n",
    "    \n",
    "    #print(result)\n",
    "    #print(matrix[l1][l2])\n",
    "    \n",
    "    ## the last element of the matrix will be largest common subsequence length\n",
    "    return matrix[l1][l2]\n"
   ]
  },
  {
   "cell_type": "code",
   "execution_count": 200,
   "metadata": {},
   "outputs": [],
   "source": [
    "#### Test for Question 4\n",
    "\n",
    "if LCS(\"aaba\",\"aaa\") != 3:\n",
    "    print(\"Error, should be 3\") \n",
    "    \n",
    "if LCS(\"abcd\",\"adc\") != 2:\n",
    "    print(\"Error, should be 2\") "
   ]
  },
  {
   "cell_type": "code",
   "execution_count": null,
   "metadata": {},
   "outputs": [],
   "source": []
  }
 ],
 "metadata": {
  "kernelspec": {
   "display_name": "Python 3",
   "language": "python",
   "name": "python3"
  },
  "language_info": {
   "codemirror_mode": {
    "name": "ipython",
    "version": 3
   },
   "file_extension": ".py",
   "mimetype": "text/x-python",
   "name": "python",
   "nbconvert_exporter": "python",
   "pygments_lexer": "ipython3",
   "version": "3.8.8"
  }
 },
 "nbformat": 4,
 "nbformat_minor": 4
}
